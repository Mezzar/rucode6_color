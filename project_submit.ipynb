{
 "cells": [
  {
   "cell_type": "markdown",
   "id": "eab14456-2101-47a2-af97-731e655dba33",
   "metadata": {},
   "source": [
    "# RuCode 6. Определение цвета автомобиля"
   ]
  },
  {
   "cell_type": "markdown",
   "id": "14c99d17-da1b-4a22-8b51-932be1326073",
   "metadata": {},
   "source": [
    "**Обогащение датасета**\n",
    "\n",
    "К файлам обучающей выборки добавлены файлы из датасета https://www.kaggle.com/datasets/landrykezebou/vcor-vehicle-color-recognition-dataset\n",
    "* в каталоге `data/train_extended` помещена копия оригинального обучающего датасета и к ним в папки с цветами добавлены новые файлы\n",
    "* папки нового датасета 'tan', 'silver', 'pink', 'gold', 'beig' не используются, удалены\n",
    "* файлы из purple помещены в violet\n",
    "\n",
    "Полный итоговый контент каталога `data` можно найти здесь: https://disk.yandex.ru/d/s2fpSrgyN5YwVA\n",
    "\n"
   ]
  },
  {
   "cell_type": "markdown",
   "id": "eeb7efc4-e88f-44fc-9659-2027c7111f5c",
   "metadata": {},
   "source": [
    "**Модель**\n",
    "\n",
    "Использовалась resnet34 модель из хаба torchvision, предобученная на imagenet."
   ]
  },
  {
   "cell_type": "markdown",
   "id": "875b0934-c5c2-471f-9abd-b0b0270caa04",
   "metadata": {},
   "source": [
    "**Обучение**\n",
    "\n",
    "Попеременно на простых и аугментированных изображениях. Зубчатый lr."
   ]
  },
  {
   "cell_type": "markdown",
   "id": "bdf5327f-5f90-4d81-967a-94bf9a3bd0b6",
   "metadata": {},
   "source": [
    "**Подготовка к запуску**\n",
    "\n",
    "Скопировать из https://disk.yandex.ru/d/s2fpSrgyN5YwVA сохраненные веса модели и архив датасетов, распаковать архив.\n",
    "\n",
    "Для запуска на Google Collab код не требует установки дополнительных библиотек."
   ]
  },
  {
   "cell_type": "markdown",
   "id": "9232d507-fa78-4e53-bb46-fddb83e2ba60",
   "metadata": {},
   "source": [
    "## Пути"
   ]
  },
  {
   "cell_type": "code",
   "execution_count": 1,
   "id": "787f78f2-05ed-4816-927d-eab0605bc6f9",
   "metadata": {
    "id": "KfywWVS_7N3D"
   },
   "outputs": [],
   "source": [
    "TRAIN_ORIG_PATH = 'data/train'              # оригинальный обучающий датасет\n",
    "TRAIN_EXTENDED_PATH = 'data/train_extended' # расширенный обучающий датасет\n",
    "TEST_PUBLIC_PATH =  'data/test'             # публичный (оригинальный) тест   \n",
    "TEST_PRIVATE_PATH =  'data/test_private'    # приватный тест"
   ]
  },
  {
   "cell_type": "code",
   "execution_count": 2,
   "id": "df6757d0-57ab-4ce9-9d1e-6181607c7212",
   "metadata": {},
   "outputs": [],
   "source": [
    "TRAIN_PATH = TRAIN_EXTENDED_PATH\n",
    "TEST_PATH = TEST_PUBLIC_PATH"
   ]
  },
  {
   "cell_type": "markdown",
   "id": "62c2ea13-fb22-47da-b800-c5de79a6af5b",
   "metadata": {
    "id": "41065ddd-130f-466c-8f0b-6e2b071f0ac2",
    "tags": []
   },
   "source": [
    "## Imports"
   ]
  },
  {
   "cell_type": "code",
   "execution_count": 3,
   "id": "1e2a7174-7f06-4ad8-aaef-b65fa3d2c795",
   "metadata": {
    "id": "615127e9-a2b3-4bca-9c9a-39fdd8c94032"
   },
   "outputs": [],
   "source": [
    "import numpy as np\n",
    "import pandas as pd\n",
    "import matplotlib.pyplot as plt\n",
    "from tqdm.auto import trange, tqdm\n",
    "import os\n",
    "from PIL import Image\n",
    "\n",
    "from sklearn.metrics import accuracy_score\n",
    "\n",
    "import torch\n",
    "import torch.nn as nn\n",
    "from torch.utils.data import Dataset, DataLoader\n",
    "import torch.nn.functional as F\n",
    "\n",
    "import torchvision\n",
    "from torchvision import transforms"
   ]
  },
  {
   "cell_type": "code",
   "execution_count": 4,
   "id": "14fb7aac-f137-4ce7-81a6-9869397b0e83",
   "metadata": {
    "id": "1F3c_P_w14re"
   },
   "outputs": [],
   "source": [
    "from clf_helper import CLF"
   ]
  },
  {
   "cell_type": "code",
   "execution_count": 5,
   "id": "18586a4c-b978-4300-9ab9-d554ca932baf",
   "metadata": {},
   "outputs": [],
   "source": [
    "def seed_everything(seed):\n",
    "    import os, random\n",
    "    os.environ['PYTHONHASHSEED'] = str(seed)\n",
    "    random.seed(seed)\n",
    "    np.random.seed(seed)\n",
    "    torch.manual_seed(seed)\n",
    "    torch.cuda.manual_seed_all(seed)    \n",
    "SEED = 42\n",
    "seed_everything(SEED)"
   ]
  },
  {
   "cell_type": "code",
   "execution_count": 6,
   "id": "2096c42d-c4c1-4946-9a2b-10e3a56c9f4c",
   "metadata": {},
   "outputs": [
    {
     "name": "stdout",
     "output_type": "stream",
     "text": [
      "using cuda mode\n"
     ]
    }
   ],
   "source": [
    "DEVICE = torch.device('cuda' if torch.cuda.is_available() else 'cpu')\n",
    "print(f'using {DEVICE} mode')"
   ]
  },
  {
   "cell_type": "markdown",
   "id": "6be9df46-099e-4fed-9dba-84c5fac92bf6",
   "metadata": {
    "id": "3ea03f25-ad2a-435d-9ebe-f2f94dfe714d",
    "tags": []
   },
   "source": [
    "## Данные"
   ]
  },
  {
   "cell_type": "code",
   "execution_count": 7,
   "id": "e11b45c0-f3a2-476b-bcac-76d19430f2e0",
   "metadata": {},
   "outputs": [],
   "source": [
    "BATCH_SIZE = 128"
   ]
  },
  {
   "cell_type": "code",
   "execution_count": 8,
   "id": "406bd18d-709d-4478-af6f-8dfd3afc45ff",
   "metadata": {
    "id": "b26f3ada-058c-436c-b1ac-a4b3c4d2c9ed",
    "tags": []
   },
   "outputs": [],
   "source": [
    "NORMALIZE = (0.4817, 0.4241, 0.3442), (0.26, 0.2358, 0.2645)\n",
    "\n",
    "aug_transform = transforms.Compose([\n",
    "    transforms.Resize(240),\n",
    "    transforms.CenterCrop(224),\n",
    "    transforms.RandomHorizontalFlip(),\n",
    "    transforms.AutoAugment(),\n",
    "    transforms.ToTensor(),\n",
    "    transforms.Normalize(*NORMALIZE),\n",
    "])\n",
    "basic_transform = transforms.Compose([\n",
    "    transforms.Resize(240),\n",
    "    transforms.CenterCrop(224),\n",
    "    transforms.ToTensor(),\n",
    "    transforms.Normalize(*NORMALIZE),\n",
    "])"
   ]
  },
  {
   "cell_type": "markdown",
   "id": "71e271cf-d82b-4655-8169-f43d9122840a",
   "metadata": {},
   "source": [
    "Обычные train/val лоадеры"
   ]
  },
  {
   "cell_type": "code",
   "execution_count": 9,
   "id": "0319f91a-d03a-4074-b98a-ef62ffe2b76a",
   "metadata": {
    "id": "b26f3ada-058c-436c-b1ac-a4b3c4d2c9ed",
    "tags": []
   },
   "outputs": [],
   "source": [
    "full_dataset = torchvision.datasets.ImageFolder(TRAIN_PATH, transform=basic_transform)\n",
    "\n",
    "train_size = int(len(full_dataset) * 0.8)\n",
    "val_size = len(full_dataset) - train_size\n",
    "train_dataset, val_dataset = torch.utils.data.random_split(full_dataset, (train_size, val_size))\n",
    "\n",
    "loaders = (\n",
    "    DataLoader(train_dataset, BATCH_SIZE, shuffle=True, num_workers=0),\n",
    "    DataLoader(val_dataset, BATCH_SIZE, shuffle=False, num_workers=0)\n",
    ")"
   ]
  },
  {
   "cell_type": "code",
   "execution_count": 10,
   "id": "bc424843-fc28-4ec0-b32a-fbe46095cc69",
   "metadata": {},
   "outputs": [],
   "source": [
    "NUM_CLASSES = len(full_dataset.classes)"
   ]
  },
  {
   "cell_type": "markdown",
   "id": "0ac40404-07bc-4e62-92cd-030b78cfda30",
   "metadata": {},
   "source": [
    "лоадеры с аугментацией train"
   ]
  },
  {
   "cell_type": "code",
   "execution_count": 11,
   "id": "c94429de-7af9-4724-8b95-44d55f413214",
   "metadata": {
    "id": "75bd390b-6af9-4e62-81b1-687cb91f00de"
   },
   "outputs": [],
   "source": [
    "class DatasetTransform(Dataset):\n",
    "    def __init__(self, dataset, transform=None):\n",
    "        self.dataset = dataset\n",
    "        self.transform = transform\n",
    "\n",
    "    def __getitem__(self, index):\n",
    "        if self.transform:\n",
    "            x = self.transform(self.dataset[index][0])\n",
    "        else:\n",
    "            x = self.dataset[index][0]\n",
    "        y = self.dataset[index][1]\n",
    "        return x, y\n",
    "    \n",
    "    def __len__(self):\n",
    "        return len(self.dataset)\n",
    "\n",
    "full_dataset_notf = torchvision.datasets.ImageFolder(TRAIN_PATH)\n",
    "\n",
    "train_size = int(len(full_dataset_notf) * 0.8)\n",
    "val_size = len(full_dataset_notf) - train_size\n",
    "aug_train_dataset, aug_val_dataset = torch.utils.data.random_split(full_dataset_notf, (train_size, val_size))\n",
    "\n",
    "aug_train_dataset = DatasetTransform(aug_train_dataset, transform=aug_transform)\n",
    "aug_val_dataset = DatasetTransform(aug_val_dataset, transform=basic_transform)\n",
    "\n",
    "aug_loaders = (\n",
    "    DataLoader(aug_train_dataset, BATCH_SIZE, shuffle=True, num_workers=0),\n",
    "    DataLoader(aug_val_dataset, BATCH_SIZE, shuffle=False, num_workers=0)\n",
    ")"
   ]
  },
  {
   "cell_type": "markdown",
   "id": "6ebc0dcd-5257-44f5-89a7-22d610b1c049",
   "metadata": {},
   "source": [
    "Лоадер для test (public или private в зависимости от папки) предсказания."
   ]
  },
  {
   "cell_type": "code",
   "execution_count": 12,
   "id": "c6e6e9c9-5b2c-4799-bd60-997359728475",
   "metadata": {},
   "outputs": [],
   "source": [
    "class TestDataset(Dataset):\n",
    "    def __init__(self, transform=None):\n",
    "        self.transform = transform\n",
    "        self.filenames = os.listdir(TEST_PATH)\n",
    "        \n",
    "    def __getitem__(self, index):\n",
    "        image_path = os.path.join(TEST_PATH, self.filenames[index])\n",
    "        x = Image.open(image_path)\n",
    "        y = 0\n",
    "        if self.transform:\n",
    "            x = self.transform(x)\n",
    "        return x, y\n",
    "    \n",
    "    def __len__(self):\n",
    "        return len(self.filenames)\n",
    "    \n",
    "test_dataset = TestDataset(transform=basic_transform)\n",
    "test_loader = DataLoader(test_dataset, BATCH_SIZE, shuffle=False, num_workers=0)"
   ]
  },
  {
   "cell_type": "markdown",
   "id": "85b074ed-f6f1-4c89-bbbf-2bda4722672c",
   "metadata": {},
   "source": [
    "## Описание модели и обучения"
   ]
  },
  {
   "cell_type": "markdown",
   "id": "f72651ea-2631-4f79-a8be-7170389acb13",
   "metadata": {},
   "source": [
    "Использовал модель resnet34 из хаба pytorch, предобуженную на imagenet. Веса слоев не замораживал, дообучал сразу всю модель. \n",
    "\n",
    "Ради эксперимента попробовал обучать в несколько стадий с зубчатым изменением lr. График:"
   ]
  },
  {
   "cell_type": "code",
   "execution_count": 13,
   "id": "5d3de576-44c0-4b5c-9a12-091d98fc8c11",
   "metadata": {},
   "outputs": [
    {
     "data": {
      "image/png": "[encoded data removed]",
      "text/plain": [
       "<Figure size 432x288 with 1 Axes>"
      ]
     },
     "metadata": {
      "needs_background": "light"
     },
     "output_type": "display_data"
    }
   ],
   "source": [
    "lr_points = []\n",
    "lr_points.extend([1e-3 * 0.93**i for i in range(30)]) #no_aug\n",
    "lr_points.extend([1e-3 * 0.93**i for i in range(30)]) #aug\n",
    "lr_points.extend([3e-4 * 0.93**i for i in range(20)]) #no_aug\n",
    "lr_points.extend([3e-4 * 0.93**i for i in range(20)]) #aug\n",
    "plt.title('LR')\n",
    "plt.plot(lr_points);"
   ]
  },
  {
   "cell_type": "markdown",
   "id": "6d064d91-d3a8-4a8d-ae86-9fc4b69929e3",
   "metadata": {},
   "source": [
    "При этом обучал попеременно на обычных данных и аугментированных (даталоадеры loaders и aug_loaders). Аугментацию под задачу не подбирал, использовал готовый AutoAugment, который временами не вполне корректно работает с цветом. Подумал что чередование загрузчиков сгладит недостатки аугментации."
   ]
  },
  {
   "cell_type": "markdown",
   "id": "d4a03a37-c15d-4c81-a74a-979ecf209036",
   "metadata": {},
   "source": [
    "**Класс CLF** (файл clf_helper.py) - самописный класс, который осуществляет цикл обучения, визуализацию результата, запись на диск и загрузку чекпоинтов. По примению в коде должно быть достаточно очевидно как используется. "
   ]
  },
  {
   "cell_type": "markdown",
   "id": "e1f1c558-e71f-4460-b5eb-f25cef6eb675",
   "metadata": {
    "jp-MarkdownHeadingCollapsed": true,
    "tags": []
   },
   "source": [
    "## Ошибка в коде обработки данных\n",
    "\n",
    "Уже готовя отчетный текст заметил ошибку при разделении данных. Забыл добавить фиксирование seed при разделении train/val (не добавил параметр `generator=torch.Generator().manual_seed(SEED)` при вызове `torch.utils.data.random_split()`).  Поэтому это разделение оказалось не фиксированным (идентичным) на обычном и аугментировнном загрузчиках. И между ними происходила утечка в val.\n",
    "\n",
    "**Результат** - завышенная val метрика и немного пониженная тестовая (модель сохранялась по val метрике, а значит не на лучшей эпохе)."
   ]
  },
  {
   "cell_type": "markdown",
   "id": "7a664969-f7df-4563-85ac-63e3a15ef0a9",
   "metadata": {
    "id": "4502e457-fc4a-4548-ac28-98927db2501b",
    "tags": []
   },
   "source": [
    "## Модель и обучение"
   ]
  },
  {
   "cell_type": "code",
   "execution_count": 14,
   "id": "aea1c66c-d19d-458b-8d3c-08e4053813d3",
   "metadata": {
    "id": "c9040206-31f3-4ba8-8e4d-28a0346779d4"
   },
   "outputs": [],
   "source": [
    "model = torchvision.models.resnet34(pretrained=True)\n",
    "model.fc = nn.Linear(512, NUM_CLASSES, True)"
   ]
  },
  {
   "cell_type": "code",
   "execution_count": 15,
   "id": "12af3e09-929d-41d8-83c9-0ec28dd98d5b",
   "metadata": {
    "id": "c9040206-31f3-4ba8-8e4d-28a0346779d4"
   },
   "outputs": [],
   "source": [
    "optimizer = torch.optim.AdamW(model.parameters(), lr=3e-4)\n",
    "lr_scheduler = torch.optim.lr_scheduler.ExponentialLR(optimizer, gamma=0.93)\n",
    "clf = CLF(model, optimizer, *aug_loaders, lr_scheduler=lr_scheduler, name='resnet34 augmix pretrain unfrozen', device=DEVICE)"
   ]
  },
  {
   "cell_type": "code",
   "execution_count": 16,
   "id": "72e977dd-d827-4a7b-9d5b-70cf1786cf45",
   "metadata": {},
   "outputs": [],
   "source": [
    "LOAD_FINAL_MODEL = True"
   ]
  },
  {
   "cell_type": "code",
   "execution_count": 17,
   "id": "8abcb9b1-34ce-4968-9f49-89e43ca0fb45",
   "metadata": {},
   "outputs": [
    {
     "name": "stdout",
     "output_type": "stream",
     "text": [
      "Loaded checkpoint: cp_best_loss_submitted.pt (epoch 86)\n"
     ]
    }
   ],
   "source": [
    "def reset_clf_cycle(clf, loaders, lr=3e-4):\n",
    "    clf.train_loader = loaders[0]\n",
    "    clf.optimizer = torch.optim.AdamW(clf.model.parameters(), lr=lr)\n",
    "    clf.lr_scheduler = torch.optim.lr_scheduler.ExponentialLR(clf.optimizer, gamma=0.85)\n",
    "    \n",
    "    \n",
    "if LOAD_FINAL_MODEL:\n",
    "    #clf.load('cp_best_accuracy_submitted.pt')\n",
    "    clf.load('cp_best_loss_submitted.pt')\n",
    "else:\n",
    "    reset_clf_cycle(clf, loaders, 1e-3)\n",
    "    clf.train(30, plot=True, save_best_loss='cp_best_loss.pt', save_best_accuracy='cp_best_accuracy.pt')\n",
    "    \n",
    "    reset_clf_cycle(clf, aug_loaders, 1e-3)\n",
    "    clf.train(30, plot=True, save_best_loss='cp_best_loss.pt', save_best_accuracy='cp_best_accuracy.pt')\n",
    "\n",
    "    reset_clf_cycle(clf, loaders, 3e-4)\n",
    "    clf.train(20, plot=True, save_best_loss='cp_best_loss.pt', save_best_accuracy='cp_best_accuracy.pt')\n",
    "    \n",
    "    reset_clf_cycle(clf, aug_loaders, 3e-4)\n",
    "    clf.train(20, plot=True, save_best_loss='cp_best_loss.pt', save_best_accuracy='cp_best_accuracy.pt')\n",
    "\n",
    "    clf.save('cp_final.pt')\n",
    "    clf.load('cp_best_accuracy.pt')"
   ]
  },
  {
   "cell_type": "code",
   "execution_count": 18,
   "id": "f59452ab-f5e6-47f9-a881-bc01391ab4eb",
   "metadata": {},
   "outputs": [
    {
     "data": {
      "image/png": "[encoded data removed]",
      "text/plain": [
       "<Figure size 1080x288 with 2 Axes>"
      ]
     },
     "metadata": {
      "needs_background": "light"
     },
     "output_type": "display_data"
    },
    {
     "name": "stdout",
     "output_type": "stream",
     "text": [
      "Best val accuracy 99.65% on epoch 85 (138.4 min) | best val loss 0.0146 on epoch 86 (140.4 min)\n"
     ]
    }
   ],
   "source": [
    "clf.plot()\n",
    "clf.stats()"
   ]
  },
  {
   "cell_type": "markdown",
   "id": "507aa676-0240-47a7-bfb8-eb4fc3a9b8b5",
   "metadata": {},
   "source": [
    "**Комментарий:**\n",
    "\n",
    "Выглядит интересно, но из-за утечки не так информативно. Эпохи 0-30 и 60-80 - простой датасет, 30-60, 80-100 - аугментированный. Последняя эпоха меньше 100, поскольку это загруженный чекпоинт, сохраненый по максимуму val_accuracy или val_loss.\n",
    "\n",
    "Как видно итоговая val accuracy оказалась завышенной - аж 99.65%. Рост val метрики и падение val loss на 30,80 эпохе и связан с тем, что часть train объектов оказалось в val. Когда заметил переделывать было поздно. Скачок train loss там же - из-за начала работы с аугментироанным датасетом. \n",
    "\n",
    "В целом несмотря на это модель обучилась адекватно. На полученном чекпоинте модель дала скор **0.9812 на публичном тесте** и **0.9830 на приватном тесте**.\n",
    "\n",
    "На моделях, обученных раздельно на простых и аугментированных лоадерах был и более высокий паблик скор - **0.9857**. Но засмотрелся на \"прекрасные\" валидационные метрики и сдал этот вариант."
   ]
  },
  {
   "cell_type": "markdown",
   "id": "f3eaeaa3-573d-4c4e-a097-d9823f8ed402",
   "metadata": {},
   "source": [
    "## Предсказание на test выборке и экспорт"
   ]
  },
  {
   "cell_type": "code",
   "execution_count": 19,
   "id": "d96ee32b-f238-4a57-a9fb-778eaea17e79",
   "metadata": {},
   "outputs": [],
   "source": [
    "classes = full_dataset.classes\n",
    "filenames = test_dataset.filenames\n",
    "\n",
    "preds = clf.predict(test_loader)\n",
    "preds_labels = [classes[x] for x in preds]"
   ]
  },
  {
   "cell_type": "markdown",
   "id": "8a4e2a6f-f55d-4429-9952-cd208cb5f043",
   "metadata": {},
   "source": [
    "Не забыть отсортировать файлы как числа."
   ]
  },
  {
   "cell_type": "code",
   "execution_count": 20,
   "id": "a9122546-0a6e-4390-8f98-65ace0622ee5",
   "metadata": {},
   "outputs": [],
   "source": [
    "df_result = pd.DataFrame({'id': [int(s.split('.')[0]) for s in filenames],\n",
    "                          'filename': filenames,\n",
    "                          'label': preds_labels})\n",
    "df_result = df_result.sort_values('id').set_index('id')"
   ]
  },
  {
   "cell_type": "code",
   "execution_count": 21,
   "id": "949a66e2-61b3-4197-9b8d-e7d33113fe78",
   "metadata": {},
   "outputs": [],
   "source": [
    "filename = 'submission.csv'\n",
    "\n",
    "with open(filename, 'w') as f:\n",
    "    result_str = '\\n'.join(df_result.label.values.tolist())\n",
    "    f.write(result_str)"
   ]
  },
  {
   "cell_type": "code",
   "execution_count": 22,
   "id": "8066edbc-7417-46e3-a785-9da11fdcbd7b",
   "metadata": {},
   "outputs": [
    {
     "data": {
      "text/html": [
       "<div>\n",
       "<style scoped>\n",
       "    .dataframe tbody tr th:only-of-type {\n",
       "        vertical-align: middle;\n",
       "    }\n",
       "\n",
       "    .dataframe tbody tr th {\n",
       "        vertical-align: top;\n",
       "    }\n",
       "\n",
       "    .dataframe thead th {\n",
       "        text-align: right;\n",
       "    }\n",
       "</style>\n",
       "<table border=\"1\" class=\"dataframe\">\n",
       "  <thead>\n",
       "    <tr style=\"text-align: right;\">\n",
       "      <th></th>\n",
       "      <th>filename</th>\n",
       "      <th>label</th>\n",
       "    </tr>\n",
       "    <tr>\n",
       "      <th>id</th>\n",
       "      <th></th>\n",
       "      <th></th>\n",
       "    </tr>\n",
       "  </thead>\n",
       "  <tbody>\n",
       "    <tr>\n",
       "      <th>0</th>\n",
       "      <td>0.jpg</td>\n",
       "      <td>Violet</td>\n",
       "    </tr>\n",
       "    <tr>\n",
       "      <th>1</th>\n",
       "      <td>1.jpg</td>\n",
       "      <td>White</td>\n",
       "    </tr>\n",
       "    <tr>\n",
       "      <th>2</th>\n",
       "      <td>2.jpg</td>\n",
       "      <td>Yellow</td>\n",
       "    </tr>\n",
       "    <tr>\n",
       "      <th>3</th>\n",
       "      <td>3.jpg</td>\n",
       "      <td>Grey</td>\n",
       "    </tr>\n",
       "    <tr>\n",
       "      <th>4</th>\n",
       "      <td>4.jpg</td>\n",
       "      <td>Green</td>\n",
       "    </tr>\n",
       "    <tr>\n",
       "      <th>...</th>\n",
       "      <td>...</td>\n",
       "      <td>...</td>\n",
       "    </tr>\n",
       "    <tr>\n",
       "      <th>1431</th>\n",
       "      <td>1431.jpg</td>\n",
       "      <td>Yellow</td>\n",
       "    </tr>\n",
       "    <tr>\n",
       "      <th>1432</th>\n",
       "      <td>1432.jpg</td>\n",
       "      <td>Black</td>\n",
       "    </tr>\n",
       "    <tr>\n",
       "      <th>1433</th>\n",
       "      <td>1433.jpg</td>\n",
       "      <td>Cyan</td>\n",
       "    </tr>\n",
       "    <tr>\n",
       "      <th>1434</th>\n",
       "      <td>1434.jpg</td>\n",
       "      <td>Yellow</td>\n",
       "    </tr>\n",
       "    <tr>\n",
       "      <th>1435</th>\n",
       "      <td>1435.jpg</td>\n",
       "      <td>Violet</td>\n",
       "    </tr>\n",
       "  </tbody>\n",
       "</table>\n",
       "<p>1436 rows × 2 columns</p>\n",
       "</div>"
      ],
      "text/plain": [
       "      filename   label\n",
       "id                    \n",
       "0        0.jpg  Violet\n",
       "1        1.jpg   White\n",
       "2        2.jpg  Yellow\n",
       "3        3.jpg    Grey\n",
       "4        4.jpg   Green\n",
       "...        ...     ...\n",
       "1431  1431.jpg  Yellow\n",
       "1432  1432.jpg   Black\n",
       "1433  1433.jpg    Cyan\n",
       "1434  1434.jpg  Yellow\n",
       "1435  1435.jpg  Violet\n",
       "\n",
       "[1436 rows x 2 columns]"
      ]
     },
     "execution_count": 22,
     "metadata": {},
     "output_type": "execute_result"
    }
   ],
   "source": [
    "df_result"
   ]
  },
  {
   "cell_type": "code",
   "execution_count": null,
   "id": "0d6a6bcb-ef01-4fe5-b6e8-b2a5149f5ef7",
   "metadata": {},
   "outputs": [],
   "source": []
  }
 ],
 "metadata": {
  "kernelspec": {
   "display_name": "Python 3 (ipykernel)",
   "language": "python",
   "name": "python3"
  },
  "language_info": {
   "codemirror_mode": {
    "name": "ipython",
    "version": 3
   },
   "file_extension": ".py",
   "mimetype": "text/x-python",
   "name": "python",
   "nbconvert_exporter": "python",
   "pygments_lexer": "ipython3",
   "version": "3.8.10"
  }
 },
 "nbformat": 4,
 "nbformat_minor": 5
}
